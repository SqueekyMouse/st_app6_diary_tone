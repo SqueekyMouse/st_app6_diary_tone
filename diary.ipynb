{
 "cells": [
  {
   "cell_type": "code",
   "execution_count": 8,
   "metadata": {},
   "outputs": [],
   "source": [
    "import glob"
   ]
  },
  {
   "cell_type": "code",
   "execution_count": 9,
   "metadata": {},
   "outputs": [],
   "source": [
    "filepaths=glob.glob('diary/*.txt')\n",
    "#filepaths"
   ]
  },
  {
   "cell_type": "code",
   "execution_count": 10,
   "metadata": {},
   "outputs": [],
   "source": [
    "filepaths=sorted(filepaths)"
   ]
  },
  {
   "cell_type": "code",
   "execution_count": 11,
   "metadata": {},
   "outputs": [
    {
     "data": {
      "text/plain": [
       "['diary/2023-10-21', 'txt']"
      ]
     },
     "execution_count": 11,
     "metadata": {},
     "output_type": "execute_result"
    }
   ],
   "source": [
    "filepaths[0].split('.')"
   ]
  },
  {
   "cell_type": "code",
   "execution_count": 12,
   "metadata": {},
   "outputs": [
    {
     "data": {
      "text/plain": [
       "'2023-10-21'"
      ]
     },
     "execution_count": 12,
     "metadata": {},
     "output_type": "execute_result"
    }
   ],
   "source": [
    "from pathlib import Path\n",
    "\n",
    "Path(filepaths[0]).stem"
   ]
  },
  {
   "cell_type": "code",
   "execution_count": 13,
   "metadata": {},
   "outputs": [
    {
     "data": {
      "text/plain": [
       "'Oct 23'"
      ]
     },
     "execution_count": 13,
     "metadata": {},
     "output_type": "execute_result"
    }
   ],
   "source": [
    "from datetime import datetime\n",
    "datetime.strptime(Path(filepaths[0]).stem, '%Y-%m-%d').strftime('%b %y')"
   ]
  },
  {
   "cell_type": "code",
   "execution_count": 14,
   "metadata": {},
   "outputs": [],
   "source": [
    "from nltk.sentiment import SentimentIntensityAnalyzer\n",
    "analyzer=SentimentIntensityAnalyzer()"
   ]
  },
  {
   "cell_type": "code",
   "execution_count": 15,
   "metadata": {},
   "outputs": [],
   "source": [
    "list_date=[]\n",
    "list_pos_tone=[]\n",
    "list_neg_tone=[]\n",
    "for filepath in filepaths:\n",
    "    ddate=datetime.strptime(Path(filepath).stem, '%Y-%m-%d').strftime('%b %d')\n",
    "    list_date.append(ddate)\n",
    "    with open(filepath) as file:\n",
    "        diary=file.read()\n",
    "        # print(analyzer.polarity_scores(diary))\n",
    "        score=analyzer.polarity_scores(diary)\n",
    "        list_pos_tone.append(score['pos'])\n",
    "        list_neg_tone.append(score['neg'])"
   ]
  },
  {
   "cell_type": "code",
   "execution_count": 16,
   "metadata": {},
   "outputs": [
    {
     "name": "stdout",
     "output_type": "stream",
     "text": [
      "['Oct 21', 'Oct 22', 'Oct 23', 'Oct 24', 'Oct 25', 'Oct 26', 'Oct 27']\n",
      "[0.065, 0.17, 0.203, 0.238, 0.159, 0.062, 0.177]\n",
      "[0.138, 0.03, 0.119, 0.046, 0.062, 0.125, 0.034]\n"
     ]
    }
   ],
   "source": [
    "print(list_date)\n",
    "print(list_pos_tone)\n",
    "print(list_neg_tone)"
   ]
  }
 ],
 "metadata": {
  "kernelspec": {
   "display_name": ".venv",
   "language": "python",
   "name": "python3"
  },
  "language_info": {
   "codemirror_mode": {
    "name": "ipython",
    "version": 3
   },
   "file_extension": ".py",
   "mimetype": "text/x-python",
   "name": "python",
   "nbconvert_exporter": "python",
   "pygments_lexer": "ipython3",
   "version": "3.11.2"
  },
  "orig_nbformat": 4,
  "vscode": {
   "interpreter": {
    "hash": "bd0d809ccb2edb7501b549e89a30714ac68dbfcd2e972472d9dee6ce5c7c4b38"
   }
  }
 },
 "nbformat": 4,
 "nbformat_minor": 2
}
